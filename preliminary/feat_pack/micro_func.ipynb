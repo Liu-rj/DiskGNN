{
 "cells": [
  {
   "cell_type": "code",
   "execution_count": 2,
   "metadata": {},
   "outputs": [
    {
     "data": {
      "text/plain": [
       "([[set(), {3}, {1}, {2, 3}],\n",
       "  [{3}, set(), {5}, {3}],\n",
       "  [{1}, {5}, set(), set()],\n",
       "  [{2, 3}, {3}, set(), set()]],\n",
       " {3},\n",
       " [set(), {4}, {6}, {7}])"
      ]
     },
     "execution_count": 2,
     "metadata": {},
     "output_type": "execute_result"
    }
   ],
   "source": [
    "from itertools import combinations\n",
    "\n",
    "def calculate_pairwise_overlap(sequences):\n",
    "    \"\"\"\n",
    "    Calculates pairwise overlap of sequences and returns a matrix with the overlaps.\n",
    "    \"\"\"\n",
    "    n = len(sequences)\n",
    "    pairwise_overlap = [[set() for _ in range(n)] for _ in range(n)]\n",
    "    \n",
    "    for i in range(n):\n",
    "        for j in range(i + 1, n):\n",
    "            overlap = set(sequences[i]).intersection(sequences[j])\n",
    "            pairwise_overlap[i][j] = overlap\n",
    "            pairwise_overlap[j][i] = overlap  # Symmetric matrix\n",
    "\n",
    "    return pairwise_overlap\n",
    "\n",
    "def calculate_triplet_overlap(sequences):\n",
    "    \"\"\"\n",
    "    Calculates triplet overlap of sequences and returns a list with the overlaps.\n",
    "    \"\"\"\n",
    "    triplet_overlap = set()\n",
    "    for triplet in combinations(sequences, 3):\n",
    "        overlap = set(triplet[0]).intersection(triplet[1], triplet[2])\n",
    "        triplet_overlap.update(overlap)\n",
    "\n",
    "    return triplet_overlap\n",
    "\n",
    "def calculate_remaining_indices(sequences, pairwise_overlap, triplet_overlap):\n",
    "    \"\"\"\n",
    "    Calculates the remaining indices for each sequence that are not in pairwise or triplet overlaps.\n",
    "    Adjusted to ensure that we subtract sets from sets.\n",
    "    \"\"\"\n",
    "    n = len(sequences)\n",
    "    remaining_indices = []\n",
    "\n",
    "    for i, seq in enumerate(sequences):\n",
    "        remaining = set(seq) - triplet_overlap\n",
    "        for j in range(n):\n",
    "            if i != j:\n",
    "                remaining -= pairwise_overlap[i][j]\n",
    "        remaining_indices.append(remaining)\n",
    "\n",
    "    return remaining_indices\n",
    "\n",
    "# Example usage\n",
    "sequences = [[1, 2, 3], [3, 4, 5], [1, 5, 6], [2, 3, 7]]\n",
    "pairwise_overlap = calculate_pairwise_overlap(sequences)\n",
    "triplet_overlap = calculate_triplet_overlap(sequences)\n",
    "remaining_indices = calculate_remaining_indices(sequences, pairwise_overlap, triplet_overlap)\n",
    "\n",
    "pairwise_overlap, triplet_overlap, remaining_indices\n",
    "## TODO 去除 pair wise里面的 triplet overlap\n",
    "\n"
   ]
  }
 ],
 "metadata": {
  "kernelspec": {
   "display_name": "pytorch",
   "language": "python",
   "name": "python3"
  },
  "language_info": {
   "codemirror_mode": {
    "name": "ipython",
    "version": 3
   },
   "file_extension": ".py",
   "mimetype": "text/x-python",
   "name": "python",
   "nbconvert_exporter": "python",
   "pygments_lexer": "ipython3",
   "version": "3.9.16"
  },
  "orig_nbformat": 4
 },
 "nbformat": 4,
 "nbformat_minor": 2
}
